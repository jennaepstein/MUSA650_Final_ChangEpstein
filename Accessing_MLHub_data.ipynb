{
 "cells": [
  {
   "cell_type": "markdown",
   "metadata": {},
   "source": [
    "# Radiant MLHub Data Access\n",
    "Note: must enable the radiant earth mlhub python client. \n",
    "run pip install radiant-mlhub"
   ]
  },
  {
   "cell_type": "code",
   "execution_count": 1,
   "metadata": {},
   "outputs": [],
   "source": [
    "from radiant_mlhub import Dataset, Collection, client, get_session\n",
    "import tarfile\n",
    "from pathlib import Path\n",
    "import os\n",
    "from io import BytesIO\n",
    "from glob import glob\n",
    "from tqdm.notebook import tqdm\n",
    "import tifffile as tiff\n",
    "import matplotlib.pyplot as plt\n",
    "import numpy as np\n",
    "import pandas as pd"
   ]
  },
  {
   "cell_type": "code",
   "execution_count": 2,
   "metadata": {},
   "outputs": [],
   "source": [
    "# MLHub API Key\n",
    "os.environ['MLHUB_API_KEY'] = '673e0a44d16279e72d310dc580273c2cd52b37a5857321555e23e19a84af8eb4'"
   ]
  },
  {
   "cell_type": "markdown",
   "metadata": {},
   "source": [
    "##  Data"
   ]
  },
  {
   "cell_type": "code",
   "execution_count": 3,
   "metadata": {},
   "outputs": [
    {
     "name": "stdout",
     "output_type": "stream",
     "text": [
      "ID: umd_mali_crop_type\n",
      "Title: 2019 Mali CropType Training Data\n",
      "Collections:\n",
      "* umd_mali_crop_type_labels\n",
      "* umd_mali_crop_type_source\n"
     ]
    }
   ],
   "source": [
    "dataset = Dataset.fetch('umd_mali_crop_type')\n",
    "\n",
    "print(f'ID: {dataset.id}')\n",
    "print(f'Title: {dataset.title}')\n",
    "print('Collections:')\n",
    "for collection in dataset.collections:\n",
    "    print(f'* {collection.id}')"
   ]
  },
  {
   "cell_type": "markdown",
   "metadata": {},
   "source": [
    "The two collections associated with this dataset are:\n",
    "\n",
    "* umd_mali_crop_type_source: includes the multi-temporal bands of Sentinel-2\n",
    "* umd_mali_crop_type_labels: includes the labels and field IDs\n"
   ]
  },
  {
   "cell_type": "markdown",
   "metadata": {},
   "source": [
    "## Downloading Labels and Source Imagery"
   ]
  },
  {
   "cell_type": "code",
   "execution_count": 19,
   "metadata": {},
   "outputs": [
    {
     "name": "stdout",
     "output_type": "stream",
     "text": [
      "Extracting C:\\Users\\jenna\\Documents\\MCP\\Spring_2022\\MUSA650_RemoteSensing\\MUSA650_Final_ChangEpstein\\data\\umd_mali_crop_type_labels.tar.gz...\n",
      "Extracting C:\\Users\\jenna\\Documents\\MCP\\Spring_2022\\MUSA650_RemoteSensing\\MUSA650_Final_ChangEpstein\\data\\umd_mali_crop_type_source.tar.gz...\n",
      "Done\n",
      "\n"
     ]
    }
   ],
   "source": [
    "# output path where you want to download the data\n",
    "output_path = Path(\"./data/\").resolve()\n",
    "\n",
    "archive_paths = dataset.download(output_dir=output_path)\n",
    "for archive_path in archive_paths:\n",
    "    print(f'Extracting {archive_path}...')\n",
    "    with tarfile.open(archive_path) as tfile:\n",
    "        tfile.extractall(path=output_path)\n",
    "\n",
    "print('Done\\n')"
   ]
  },
  {
   "cell_type": "code",
   "execution_count": 109,
   "metadata": {},
   "outputs": [],
   "source": [
    "# The path to the source collection that was extracted from the download archive\n",
    "collection_path = Path('./data/umd_mali_crop_type_source')"
   ]
  },
  {
   "cell_type": "code",
   "execution_count": 110,
   "metadata": {},
   "outputs": [
    {
     "data": {
      "text/plain": [
       "WindowsPath('data/umd_mali_crop_type_source')"
      ]
     },
     "execution_count": 110,
     "metadata": {},
     "output_type": "execute_result"
    }
   ],
   "source": [
    "# check\n",
    "collection_path"
   ]
  },
  {
   "cell_type": "code",
   "execution_count": 115,
   "metadata": {},
   "outputs": [],
   "source": [
    "# Available bands\n",
    "bands = ['B01', 'B02', 'B03', 'B04', 'B05', 'B06', 'B07', 'B08', 'B8A', 'B09', 'B11', 'B12', 'CLD']"
   ]
  },
  {
   "cell_type": "markdown",
   "metadata": {},
   "source": [
    "IGNORE BELOW"
   ]
  },
  {
   "cell_type": "code",
   "execution_count": 117,
   "metadata": {},
   "outputs": [],
   "source": [
    "import os # to access the files on the local system\n",
    "\n",
    "labels_path = Path(\"./data/umd_mali_crop_type_labels\").resolve() # Label files\n",
    "sources_path = Path(\"./data/umd_mali_crop_type_source\").resolve() # source image files"
   ]
  },
  {
   "cell_type": "code",
   "execution_count": 82,
   "metadata": {},
   "outputs": [
    {
     "data": {
      "text/plain": [
       "WindowsPath('C:/Users/jenna/Documents/MCP/Spring_2022/MUSA650_RemoteSensing/MUSA650_Final_ChangEpstein/data/umd_mali_crop_type_labels')"
      ]
     },
     "execution_count": 82,
     "metadata": {},
     "output_type": "execute_result"
    }
   ],
   "source": [
    "labels_path"
   ]
  },
  {
   "cell_type": "code",
   "execution_count": 118,
   "metadata": {},
   "outputs": [],
   "source": [
    "# get the path to all image source files\n",
    "source_images = []\n",
    "for root, dirs, files in os.walk(sources_path):\n",
    "    for file in files:\n",
    "        if(file.endswith(\"stac.json\")):\n",
    "            source_images.append(root)"
   ]
  },
  {
   "cell_type": "code",
   "execution_count": 119,
   "metadata": {},
   "outputs": [
    {
     "data": {
      "text/html": [
       "<div>\n",
       "<style scoped>\n",
       "    .dataframe tbody tr th:only-of-type {\n",
       "        vertical-align: middle;\n",
       "    }\n",
       "\n",
       "    .dataframe tbody tr th {\n",
       "        vertical-align: top;\n",
       "    }\n",
       "\n",
       "    .dataframe thead th {\n",
       "        text-align: right;\n",
       "    }\n",
       "</style>\n",
       "<table border=\"1\" class=\"dataframe\">\n",
       "  <thead>\n",
       "    <tr style=\"text-align: right;\">\n",
       "      <th></th>\n",
       "      <th>source_file</th>\n",
       "    </tr>\n",
       "  </thead>\n",
       "  <tbody>\n",
       "    <tr>\n",
       "      <th>0</th>\n",
       "      <td>C:\\Users\\jenna\\Documents\\MCP\\Spring_2022\\MUSA6...</td>\n",
       "    </tr>\n",
       "    <tr>\n",
       "      <th>1</th>\n",
       "      <td>C:\\Users\\jenna\\Documents\\MCP\\Spring_2022\\MUSA6...</td>\n",
       "    </tr>\n",
       "    <tr>\n",
       "      <th>2</th>\n",
       "      <td>C:\\Users\\jenna\\Documents\\MCP\\Spring_2022\\MUSA6...</td>\n",
       "    </tr>\n",
       "    <tr>\n",
       "      <th>3</th>\n",
       "      <td>C:\\Users\\jenna\\Documents\\MCP\\Spring_2022\\MUSA6...</td>\n",
       "    </tr>\n",
       "    <tr>\n",
       "      <th>4</th>\n",
       "      <td>C:\\Users\\jenna\\Documents\\MCP\\Spring_2022\\MUSA6...</td>\n",
       "    </tr>\n",
       "  </tbody>\n",
       "</table>\n",
       "</div>"
      ],
      "text/plain": [
       "                                         source_file\n",
       "0  C:\\Users\\jenna\\Documents\\MCP\\Spring_2022\\MUSA6...\n",
       "1  C:\\Users\\jenna\\Documents\\MCP\\Spring_2022\\MUSA6...\n",
       "2  C:\\Users\\jenna\\Documents\\MCP\\Spring_2022\\MUSA6...\n",
       "3  C:\\Users\\jenna\\Documents\\MCP\\Spring_2022\\MUSA6...\n",
       "4  C:\\Users\\jenna\\Documents\\MCP\\Spring_2022\\MUSA6..."
      ]
     },
     "execution_count": 119,
     "metadata": {},
     "output_type": "execute_result"
    }
   ],
   "source": [
    "dataset_df = pd.DataFrame(data = source_images,columns=[\"source_file\"])\n",
    "\n",
    "dataset_df.head()"
   ]
  },
  {
   "cell_type": "code",
   "execution_count": 102,
   "metadata": {},
   "outputs": [
    {
     "name": "stdout",
     "output_type": "stream",
     "text": [
      "                                            source_file\n",
      "0     C:\\Users\\jenna\\Documents\\MCP\\Spring_2022\\MUSA6...\n",
      "1     C:\\Users\\jenna\\Documents\\MCP\\Spring_2022\\MUSA6...\n",
      "2     C:\\Users\\jenna\\Documents\\MCP\\Spring_2022\\MUSA6...\n",
      "3     C:\\Users\\jenna\\Documents\\MCP\\Spring_2022\\MUSA6...\n",
      "4     C:\\Users\\jenna\\Documents\\MCP\\Spring_2022\\MUSA6...\n",
      "...                                                 ...\n",
      "1348  C:\\Users\\jenna\\Documents\\MCP\\Spring_2022\\MUSA6...\n",
      "1349  C:\\Users\\jenna\\Documents\\MCP\\Spring_2022\\MUSA6...\n",
      "1350  C:\\Users\\jenna\\Documents\\MCP\\Spring_2022\\MUSA6...\n",
      "1351  C:\\Users\\jenna\\Documents\\MCP\\Spring_2022\\MUSA6...\n",
      "1352  C:\\Users\\jenna\\Documents\\MCP\\Spring_2022\\MUSA6...\n",
      "\n",
      "[1353 rows x 1 columns]\n"
     ]
    }
   ],
   "source": [
    "print(dataset_df)"
   ]
  }
 ],
 "metadata": {
  "interpreter": {
   "hash": "b3b9be1a114b67ae580aea9be56f65615de6f40d02b8026cd32778f2c3fa3664"
  },
  "kernelspec": {
   "display_name": "Python 3.9.9 ('musa-650')",
   "language": "python",
   "name": "python3"
  },
  "language_info": {
   "codemirror_mode": {
    "name": "ipython",
    "version": 3
   },
   "file_extension": ".py",
   "mimetype": "text/x-python",
   "name": "python",
   "nbconvert_exporter": "python",
   "pygments_lexer": "ipython3",
   "version": "3.9.9"
  },
  "orig_nbformat": 4
 },
 "nbformat": 4,
 "nbformat_minor": 2
}
