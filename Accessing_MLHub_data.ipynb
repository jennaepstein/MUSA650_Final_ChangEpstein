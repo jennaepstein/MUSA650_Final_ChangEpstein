{
 "cells": [
  {
   "cell_type": "markdown",
   "metadata": {},
   "source": [
    "# Radiant MLHub Data Access\n",
    "Note: must enable the radiant earth mlhub python client. \n",
    "run pip install radiant-mlhub"
   ]
  },
  {
   "cell_type": "code",
   "execution_count": 30,
   "metadata": {},
   "outputs": [],
   "source": [
    "# Required libraries\n",
    "from radiant_mlhub import Dataset, client\n",
    "import tarfile\n",
    "from pathlib import Path"
   ]
  },
  {
   "cell_type": "code",
   "execution_count": 31,
   "metadata": {},
   "outputs": [],
   "source": [
    "import os\n",
    "\n",
    "# MLHub API Key\n",
    "os.environ['MLHUB_API_KEY'] = '673e0a44d16279e72d310dc580273c2cd52b37a5857321555e23e19a84af8eb4'"
   ]
  },
  {
   "cell_type": "code",
   "execution_count": 32,
   "metadata": {},
   "outputs": [],
   "source": [
    "from radiant_mlhub import client, get_session"
   ]
  },
  {
   "cell_type": "markdown",
   "metadata": {},
   "source": [
    "##  Data Collections"
   ]
  },
  {
   "cell_type": "code",
   "execution_count": 34,
   "metadata": {},
   "outputs": [
    {
     "name": "stdout",
     "output_type": "stream",
     "text": [
      "ID: umd_mali_crop_type\n",
      "Title: 2019 Mali CropType Training Data\n",
      "Collections:\n",
      "* umd_mali_crop_type_labels\n",
      "* umd_mali_crop_type_source\n"
     ]
    }
   ],
   "source": [
    "dataset = Dataset.fetch('umd_mali_crop_type')\n",
    "\n",
    "print(f'ID: {dataset.id}')\n",
    "print(f'Title: {dataset.title}')\n",
    "print('Collections:')\n",
    "for collection in dataset.collections:\n",
    "    print(f'* {collection.id}')"
   ]
  },
  {
   "cell_type": "markdown",
   "metadata": {},
   "source": [
    "The two collections associated with this dataset are:\n",
    "\n",
    "* umd_mali_crop_type_source: includes the multi-temporal bands of Sentinel-2\n",
    "* umd_mali_crop_type_labels: includes the labels and field IDs\n"
   ]
  },
  {
   "cell_type": "markdown",
   "metadata": {},
   "source": [
    "## Downloading Labels"
   ]
  },
  {
   "cell_type": "code",
   "execution_count": 35,
   "metadata": {},
   "outputs": [
    {
     "data": {
      "application/vnd.jupyter.widget-view+json": {
       "model_id": "6393b2addee247d2950b45cc934ce277",
       "version_major": 2,
       "version_minor": 0
      },
      "text/plain": [
       "  0%|          | 0/0.2 [00:00<?, ?M/s]"
      ]
     },
     "metadata": {},
     "output_type": "display_data"
    },
    {
     "data": {
      "application/vnd.jupyter.widget-view+json": {
       "model_id": "ae3cb88e88844209a9f48b1c10a5acfb",
       "version_major": 2,
       "version_minor": 0
      },
      "text/plain": [
       "  0%|          | 0/473.9 [00:00<?, ?M/s]"
      ]
     },
     "metadata": {},
     "output_type": "display_data"
    },
    {
     "name": "stdout",
     "output_type": "stream",
     "text": [
      "Extracting data\\umd_mali_crop_type_labels.tar.gz...\n",
      "Extracting C:\\Users\\jenna\\AppData\\Local\\Programs\\Microsoft VS Code\\data\\umd_mali_crop_type_source.tar.gz...\n",
      "Done\n",
      "\n"
     ]
    }
   ],
   "source": [
    "# output path where you want to download the data\n",
    "output_path = Path(\"./data/\").resolve()\n",
    "archive_paths = dataset.download(output_dir=output_path)\n",
    "for archive_path in archive_paths:\n",
    "    print(f'Extracting {archive_path}...')\n",
    "    with tarfile.open(archive_path) as tfile:\n",
    "        tfile.extractall(path=output_path)\n",
    "\n",
    "print('Done\\n')"
   ]
  }
 ],
 "metadata": {
  "interpreter": {
   "hash": "b3b9be1a114b67ae580aea9be56f65615de6f40d02b8026cd32778f2c3fa3664"
  },
  "kernelspec": {
   "display_name": "Python 3.9.9 ('musa-650')",
   "language": "python",
   "name": "python3"
  },
  "language_info": {
   "codemirror_mode": {
    "name": "ipython",
    "version": 3
   },
   "file_extension": ".py",
   "mimetype": "text/x-python",
   "name": "python",
   "nbconvert_exporter": "python",
   "pygments_lexer": "ipython3",
   "version": "3.9.9"
  },
  "orig_nbformat": 4
 },
 "nbformat": 4,
 "nbformat_minor": 2
}
