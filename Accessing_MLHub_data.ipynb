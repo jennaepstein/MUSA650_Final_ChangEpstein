{
 "cells": [
  {
   "cell_type": "markdown",
   "metadata": {},
   "source": [
    "# Accessing and Downloading our MUSA650 Final Project Data from Radiant MLHub\n",
    "**Kristin Chang & Jenna Epstein**\n",
    "\n",
    "Note: must enable the radiant earth mlhub python client (run `pip install radiant-mlhub`)"
   ]
  },
  {
   "cell_type": "code",
   "execution_count": 10,
   "metadata": {},
   "outputs": [],
   "source": [
    "from radiant_mlhub import Dataset, Collection, client, get_session\n",
    "import tarfile\n",
    "from pathlib import Path\n",
    "import os\n",
    "from io import BytesIO\n",
    "from glob import glob\n",
    "from tqdm.notebook import tqdm\n",
    "import tifffile as tiff\n",
    "import matplotlib.pyplot as plt\n",
    "import numpy as np\n",
    "import pandas as pd\n",
    "import PIL as pil"
   ]
  },
  {
   "cell_type": "code",
   "execution_count": 11,
   "metadata": {},
   "outputs": [],
   "source": [
    "# MLHub API Key (Jenna's)\n",
    "os.environ['MLHUB_API_KEY'] = '673e0a44d16279e72d310dc580273c2cd52b37a5857321555e23e19a84af8eb4'"
   ]
  },
  {
   "cell_type": "code",
   "execution_count": 12,
   "metadata": {},
   "outputs": [
    {
     "name": "stdout",
     "output_type": "stream",
     "text": [
      "ID: rti_rwanda_crop_type\n",
      "Title: Drone Imagery Classification Training Dataset for Crop Types in Rwanda\n",
      "Collections:\n",
      "* rti_rwanda_crop_type_labels\n",
      "* rti_rwanda_crop_type_source\n",
      "* rti_rwanda_crop_type_raw\n"
     ]
    }
   ],
   "source": [
    "# The dataset\n",
    "dataset = Dataset.fetch('rti_rwanda_crop_type')\n",
    "\n",
    "# Print all collections associated with the dataset\n",
    "print(f'ID: {dataset.id}')\n",
    "print(f'Title: {dataset.title}')\n",
    "print('Collections:')\n",
    "for collection in dataset.collections:\n",
    "    print(f'* {collection.id}')"
   ]
  },
  {
   "cell_type": "markdown",
   "metadata": {},
   "source": [
    "The three collections associated with this dataset are:\n",
    "\n",
    "* rti_rwanda_crop_type_source: includes the image inputs\n",
    "* rti_rwanda_crop_type_labels: includes the labls for the images\n",
    "* rti_rwanda_crop_type_raw: raw data\n"
   ]
  },
  {
   "cell_type": "markdown",
   "metadata": {},
   "source": [
    "## Downloading Labels and Source Imagery"
   ]
  },
  {
   "cell_type": "code",
   "execution_count": 13,
   "metadata": {},
   "outputs": [],
   "source": [
    "# Define the path to which we will download everything\n",
    "output_path = Path(\"./data/\").resolve()"
   ]
  },
  {
   "cell_type": "code",
   "execution_count": 14,
   "metadata": {},
   "outputs": [
    {
     "data": {
      "text/plain": [
       "WindowsPath('C:/Users/jenna/Documents/MCP/Spring_2022/MUSA650_RemoteSensing/Final/MUSA650_Final_ChangEpstein/data/rti_rwanda_crop_type_labels.tar.gz')"
      ]
     },
     "execution_count": 14,
     "metadata": {},
     "output_type": "execute_result"
    }
   ],
   "source": [
    "# Downloading labels\n",
    "collection = Collection.fetch('rti_rwanda_crop_type_labels')\n",
    "collection.download(f\"{output_path}\")  # Will raise exception if the file already exists"
   ]
  },
  {
   "cell_type": "code",
   "execution_count": 15,
   "metadata": {},
   "outputs": [
    {
     "data": {
      "text/plain": [
       "WindowsPath('C:/Users/jenna/Documents/MCP/Spring_2022/MUSA650_RemoteSensing/Final/MUSA650_Final_ChangEpstein/data/Data/rti_rwanda_crop_type_source.tar.gz')"
      ]
     },
     "execution_count": 15,
     "metadata": {},
     "output_type": "execute_result"
    }
   ],
   "source": [
    "# Downloading source images\n",
    "collection = Collection.fetch('rti_rwanda_crop_type_source')\n",
    "collection.download(f\"{output_path}/Data\")   # Will raise exception if the file already exists"
   ]
  },
  {
   "cell_type": "code",
   "execution_count": null,
   "metadata": {},
   "outputs": [],
   "source": [
    "# Extract images and labels\n",
    "import shutil\n",
    "shutil.unpack_archive(f\"{output_path}/rti_rwanda_crop_type_source.tar.gz\", f\"{output_path}/Extracted\")\n",
    "shutil.unpack_archive(f\"{output_path}/rti_rwanda_crop_type_labels.tar.gz\", f\"{output_path}/Extracted\")"
   ]
  },
  {
   "cell_type": "code",
   "execution_count": 8,
   "metadata": {},
   "outputs": [],
   "source": [
    "import os # use os to access the files on the local system\n",
    "labels_path = f\"{output_path}/Extracted/rti_rwanda_crop_type_labels\" # label files\n",
    "sources_path = f\"{output_path}/Extracted/rti_rwanda_crop_type_source\" # source image files"
   ]
  },
  {
   "cell_type": "code",
   "execution_count": 9,
   "metadata": {},
   "outputs": [],
   "source": [
    "# Get the path to all image source files\n",
    "source_images = []\n",
    "for root, dirs, files in os.walk(sources_path):\n",
    "    for file in files:\n",
    "        if(file.endswith(\".png\")):\n",
    "            source_images.append(root)"
   ]
  },
  {
   "cell_type": "code",
   "execution_count": 10,
   "metadata": {},
   "outputs": [
    {
     "data": {
      "text/html": [
       "<div>\n",
       "<style scoped>\n",
       "    .dataframe tbody tr th:only-of-type {\n",
       "        vertical-align: middle;\n",
       "    }\n",
       "\n",
       "    .dataframe tbody tr th {\n",
       "        vertical-align: top;\n",
       "    }\n",
       "\n",
       "    .dataframe thead th {\n",
       "        text-align: right;\n",
       "    }\n",
       "</style>\n",
       "<table border=\"1\" class=\"dataframe\">\n",
       "  <thead>\n",
       "    <tr style=\"text-align: right;\">\n",
       "      <th></th>\n",
       "      <th>source_file</th>\n",
       "    </tr>\n",
       "  </thead>\n",
       "  <tbody>\n",
       "    <tr>\n",
       "      <th>0</th>\n",
       "      <td>C:\\Users\\jenna\\Documents\\MCP\\Spring_2022\\MUSA6...</td>\n",
       "    </tr>\n",
       "    <tr>\n",
       "      <th>1</th>\n",
       "      <td>C:\\Users\\jenna\\Documents\\MCP\\Spring_2022\\MUSA6...</td>\n",
       "    </tr>\n",
       "    <tr>\n",
       "      <th>2</th>\n",
       "      <td>C:\\Users\\jenna\\Documents\\MCP\\Spring_2022\\MUSA6...</td>\n",
       "    </tr>\n",
       "    <tr>\n",
       "      <th>3</th>\n",
       "      <td>C:\\Users\\jenna\\Documents\\MCP\\Spring_2022\\MUSA6...</td>\n",
       "    </tr>\n",
       "    <tr>\n",
       "      <th>4</th>\n",
       "      <td>C:\\Users\\jenna\\Documents\\MCP\\Spring_2022\\MUSA6...</td>\n",
       "    </tr>\n",
       "  </tbody>\n",
       "</table>\n",
       "</div>"
      ],
      "text/plain": [
       "                                         source_file\n",
       "0  C:\\Users\\jenna\\Documents\\MCP\\Spring_2022\\MUSA6...\n",
       "1  C:\\Users\\jenna\\Documents\\MCP\\Spring_2022\\MUSA6...\n",
       "2  C:\\Users\\jenna\\Documents\\MCP\\Spring_2022\\MUSA6...\n",
       "3  C:\\Users\\jenna\\Documents\\MCP\\Spring_2022\\MUSA6...\n",
       "4  C:\\Users\\jenna\\Documents\\MCP\\Spring_2022\\MUSA6..."
      ]
     },
     "execution_count": 10,
     "metadata": {},
     "output_type": "execute_result"
    }
   ],
   "source": [
    "import pandas as pd\n",
    "dataset_df = pd.DataFrame(data = source_images,columns=[\"source_file\"])\n",
    "dataset_df.head()"
   ]
  },
  {
   "cell_type": "code",
   "execution_count": 11,
   "metadata": {},
   "outputs": [
    {
     "data": {
      "text/plain": [
       "'C:\\\\Users\\\\jenna\\\\Documents\\\\MCP\\\\Spring_2022\\\\MUSA650_RemoteSensing\\\\Final\\\\MUSA650_Final_ChangEpstein\\\\data/Extracted/rti_rwanda_crop_type_source\\\\rti_rwanda_crop_type_source_0'"
      ]
     },
     "execution_count": 11,
     "metadata": {},
     "output_type": "execute_result"
    }
   ],
   "source": [
    "# A sample path to a source file\n",
    "dataset_df[\"source_file\"][0]"
   ]
  },
  {
   "cell_type": "code",
   "execution_count": 12,
   "metadata": {},
   "outputs": [],
   "source": [
    "import json \n",
    "def get_label(source_file, labels_path):\n",
    "    image_id = source_file.split('_')[-1]\n",
    "    label_file = f\"{labels_path}/rti_rwanda_crop_type_labels_{str(image_id)}/labels.json\"\n",
    "    #load label\n",
    "    with open(label_file) as file:\n",
    "        label = json.load(file)[\"label\"]\n",
    "\n",
    "    return label"
   ]
  },
  {
   "cell_type": "code",
   "execution_count": 13,
   "metadata": {},
   "outputs": [],
   "source": [
    "# Add label column to pandas and read the label for each source image\n",
    "dataset_df[\"label\"] = dataset_df[\"source_file\"].apply(get_label, args=(labels_path,))"
   ]
  },
  {
   "cell_type": "code",
   "execution_count": 14,
   "metadata": {},
   "outputs": [
    {
     "data": {
      "text/html": [
       "<div>\n",
       "<style scoped>\n",
       "    .dataframe tbody tr th:only-of-type {\n",
       "        vertical-align: middle;\n",
       "    }\n",
       "\n",
       "    .dataframe tbody tr th {\n",
       "        vertical-align: top;\n",
       "    }\n",
       "\n",
       "    .dataframe thead th {\n",
       "        text-align: right;\n",
       "    }\n",
       "</style>\n",
       "<table border=\"1\" class=\"dataframe\">\n",
       "  <thead>\n",
       "    <tr style=\"text-align: right;\">\n",
       "      <th></th>\n",
       "      <th>source_file</th>\n",
       "      <th>label</th>\n",
       "    </tr>\n",
       "  </thead>\n",
       "  <tbody>\n",
       "    <tr>\n",
       "      <th>0</th>\n",
       "      <td>C:\\Users\\jenna\\Documents\\MCP\\Spring_2022\\MUSA6...</td>\n",
       "      <td>banana</td>\n",
       "    </tr>\n",
       "    <tr>\n",
       "      <th>1</th>\n",
       "      <td>C:\\Users\\jenna\\Documents\\MCP\\Spring_2022\\MUSA6...</td>\n",
       "      <td>maize</td>\n",
       "    </tr>\n",
       "    <tr>\n",
       "      <th>2</th>\n",
       "      <td>C:\\Users\\jenna\\Documents\\MCP\\Spring_2022\\MUSA6...</td>\n",
       "      <td>legumes</td>\n",
       "    </tr>\n",
       "    <tr>\n",
       "      <th>3</th>\n",
       "      <td>C:\\Users\\jenna\\Documents\\MCP\\Spring_2022\\MUSA6...</td>\n",
       "      <td>legumes</td>\n",
       "    </tr>\n",
       "    <tr>\n",
       "      <th>4</th>\n",
       "      <td>C:\\Users\\jenna\\Documents\\MCP\\Spring_2022\\MUSA6...</td>\n",
       "      <td>structure</td>\n",
       "    </tr>\n",
       "  </tbody>\n",
       "</table>\n",
       "</div>"
      ],
      "text/plain": [
       "                                         source_file      label\n",
       "0  C:\\Users\\jenna\\Documents\\MCP\\Spring_2022\\MUSA6...     banana\n",
       "1  C:\\Users\\jenna\\Documents\\MCP\\Spring_2022\\MUSA6...      maize\n",
       "2  C:\\Users\\jenna\\Documents\\MCP\\Spring_2022\\MUSA6...    legumes\n",
       "3  C:\\Users\\jenna\\Documents\\MCP\\Spring_2022\\MUSA6...    legumes\n",
       "4  C:\\Users\\jenna\\Documents\\MCP\\Spring_2022\\MUSA6...  structure"
      ]
     },
     "execution_count": 14,
     "metadata": {},
     "output_type": "execute_result"
    }
   ],
   "source": [
    "# View five rows\n",
    "dataset_df.head()"
   ]
  },
  {
   "cell_type": "code",
   "execution_count": 16,
   "metadata": {},
   "outputs": [],
   "source": [
    "# Note that we need to transform to string (using a new name - output_path_full) or else cant use + to concatenate different data types \n",
    "output_path_full = str(Path(output_path))"
   ]
  },
  {
   "cell_type": "code",
   "execution_count": 17,
   "metadata": {},
   "outputs": [],
   "source": [
    "# Create target folder for each each label\n",
    "# Define a list of keywords based on the label classes ()\n",
    "keys = (\n",
    "    \"banana\",\n",
    "    \"maize\",\n",
    "    \"other\",\n",
    "    \"forest\",\n",
    "    \"legumes\",\n",
    "    \"structure\"\n",
    ")\n",
    "if not os.path.isdir(f\"{output_path_full}/Images/\"):\n",
    "    os.makedirs(f\"{output_path_full}/Images/\")\n",
    "for key in keys:\n",
    "    if not os.path.isdir(output_path_full + '/Images/' + key):\n",
    "        os.mkdir(output_path_full + '/Images/' + key)"
   ]
  },
  {
   "cell_type": "code",
   "execution_count": 18,
   "metadata": {},
   "outputs": [],
   "source": [
    "# Copying the source imagery to corresponding label folders\n",
    "\n",
    "for key in keys:\n",
    "    key_df = dataset_df[dataset_df[\"label\"]==key]\n",
    "    key_df = key_df.reset_index()\n",
    "    for row in key_df.iterrows():\n",
    "        shutil.copy(f\"{row[1]['source_file']}/Image.png\", f\"{output_path_full}/Images/{key}/{str(row[1]['index'])}.png\")\n",
    "        # The index of the image will be the name of the file"
   ]
  },
  {
   "cell_type": "code",
   "execution_count": 19,
   "metadata": {},
   "outputs": [
    {
     "data": {
      "text/html": [
       "<div>\n",
       "<style scoped>\n",
       "    .dataframe tbody tr th:only-of-type {\n",
       "        vertical-align: middle;\n",
       "    }\n",
       "\n",
       "    .dataframe tbody tr th {\n",
       "        vertical-align: top;\n",
       "    }\n",
       "\n",
       "    .dataframe thead th {\n",
       "        text-align: right;\n",
       "    }\n",
       "</style>\n",
       "<table border=\"1\" class=\"dataframe\">\n",
       "  <thead>\n",
       "    <tr style=\"text-align: right;\">\n",
       "      <th></th>\n",
       "      <th>index</th>\n",
       "      <th>source_file</th>\n",
       "      <th>label</th>\n",
       "    </tr>\n",
       "  </thead>\n",
       "  <tbody>\n",
       "    <tr>\n",
       "      <th>0</th>\n",
       "      <td>4</td>\n",
       "      <td>C:\\Users\\jenna\\Documents\\MCP\\Spring_2022\\MUSA6...</td>\n",
       "      <td>structure</td>\n",
       "    </tr>\n",
       "    <tr>\n",
       "      <th>1</th>\n",
       "      <td>5</td>\n",
       "      <td>C:\\Users\\jenna\\Documents\\MCP\\Spring_2022\\MUSA6...</td>\n",
       "      <td>structure</td>\n",
       "    </tr>\n",
       "    <tr>\n",
       "      <th>2</th>\n",
       "      <td>8</td>\n",
       "      <td>C:\\Users\\jenna\\Documents\\MCP\\Spring_2022\\MUSA6...</td>\n",
       "      <td>structure</td>\n",
       "    </tr>\n",
       "    <tr>\n",
       "      <th>3</th>\n",
       "      <td>9</td>\n",
       "      <td>C:\\Users\\jenna\\Documents\\MCP\\Spring_2022\\MUSA6...</td>\n",
       "      <td>structure</td>\n",
       "    </tr>\n",
       "    <tr>\n",
       "      <th>4</th>\n",
       "      <td>10</td>\n",
       "      <td>C:\\Users\\jenna\\Documents\\MCP\\Spring_2022\\MUSA6...</td>\n",
       "      <td>structure</td>\n",
       "    </tr>\n",
       "  </tbody>\n",
       "</table>\n",
       "</div>"
      ],
      "text/plain": [
       "   index                                        source_file      label\n",
       "0      4  C:\\Users\\jenna\\Documents\\MCP\\Spring_2022\\MUSA6...  structure\n",
       "1      5  C:\\Users\\jenna\\Documents\\MCP\\Spring_2022\\MUSA6...  structure\n",
       "2      8  C:\\Users\\jenna\\Documents\\MCP\\Spring_2022\\MUSA6...  structure\n",
       "3      9  C:\\Users\\jenna\\Documents\\MCP\\Spring_2022\\MUSA6...  structure\n",
       "4     10  C:\\Users\\jenna\\Documents\\MCP\\Spring_2022\\MUSA6...  structure"
      ]
     },
     "execution_count": 19,
     "metadata": {},
     "output_type": "execute_result"
    }
   ],
   "source": [
    "key_df.head() # illustrates how the copy works with respect to key_df"
   ]
  },
  {
   "cell_type": "code",
   "execution_count": 20,
   "metadata": {},
   "outputs": [
    {
     "data": {
      "text/plain": [
       "'C:\\\\Users\\\\jenna\\\\Documents\\\\MCP\\\\Spring_2022\\\\MUSA650_RemoteSensing\\\\Final\\\\MUSA650_Final_ChangEpstein\\\\data/Extracted/rti_rwanda_crop_type_source\\\\rti_rwanda_crop_type_source_1000'"
      ]
     },
     "execution_count": 20,
     "metadata": {},
     "output_type": "execute_result"
    }
   ],
   "source": [
    "# The source_file contains the file - we have to append the image location (Image.png)\n",
    "key_df.source_file[0]"
   ]
  },
  {
   "cell_type": "code",
   "execution_count": 22,
   "metadata": {},
   "outputs": [],
   "source": [
    "# Access to the data on local system\n",
    "data_root=f\"{output_path_full}/Images\" "
   ]
  },
  {
   "cell_type": "code",
   "execution_count": 24,
   "metadata": {},
   "outputs": [
    {
     "name": "stdout",
     "output_type": "stream",
     "text": [
      "['banana', 'forest', 'legumes', 'maize', 'other', 'structure']\n"
     ]
    }
   ],
   "source": [
    "# Displaying the path and folders available\n",
    "selectedClasses = (os.listdir(data_root))\n",
    "\n",
    "# Print the classes from the Images folder\n",
    "print (selectedClasses)"
   ]
  }
 ],
 "metadata": {
  "interpreter": {
   "hash": "b3b9be1a114b67ae580aea9be56f65615de6f40d02b8026cd32778f2c3fa3664"
  },
  "kernelspec": {
   "display_name": "Python 3.9.9 ('musa-650')",
   "language": "python",
   "name": "python3"
  },
  "language_info": {
   "codemirror_mode": {
    "name": "ipython",
    "version": 3
   },
   "file_extension": ".py",
   "mimetype": "text/x-python",
   "name": "python",
   "nbconvert_exporter": "python",
   "pygments_lexer": "ipython3",
   "version": "3.9.9"
  },
  "orig_nbformat": 4
 },
 "nbformat": 4,
 "nbformat_minor": 2
}
