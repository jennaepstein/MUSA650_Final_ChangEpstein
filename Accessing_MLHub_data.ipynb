{
 "cells": [
  {
   "cell_type": "markdown",
   "metadata": {},
   "source": [
    "# Accessing and Downloading our Data from Radiant MLHub\n",
    "Note: must enable the radiant earth mlhub python client (run `pip install radiant-mlhub`)"
   ]
  },
  {
   "cell_type": "code",
   "execution_count": 1,
   "metadata": {},
   "outputs": [],
   "source": [
    "from radiant_mlhub import Dataset, Collection, client, get_session\n",
    "import tarfile\n",
    "from pathlib import Path\n",
    "import os\n",
    "from io import BytesIO\n",
    "from glob import glob\n",
    "from tqdm.notebook import tqdm\n",
    "import tifffile as tiff\n",
    "import matplotlib.pyplot as plt\n",
    "import numpy as np\n",
    "import pandas as pd\n",
    "import PIL as pil"
   ]
  },
  {
   "cell_type": "code",
   "execution_count": 2,
   "metadata": {},
   "outputs": [],
   "source": [
    "# MLHub API Key (Jenna's)\n",
    "os.environ['MLHUB_API_KEY'] = '673e0a44d16279e72d310dc580273c2cd52b37a5857321555e23e19a84af8eb4'"
   ]
  },
  {
   "cell_type": "code",
   "execution_count": 3,
   "metadata": {},
   "outputs": [
    {
     "name": "stdout",
     "output_type": "stream",
     "text": [
      "ID: rti_rwanda_crop_type\n",
      "Title: Drone Imagery Classification Training Dataset for Crop Types in Rwanda\n",
      "Collections:\n",
      "* rti_rwanda_crop_type_labels\n",
      "* rti_rwanda_crop_type_source\n",
      "* rti_rwanda_crop_type_raw\n"
     ]
    }
   ],
   "source": [
    "# The dataset\n",
    "dataset = Dataset.fetch('rti_rwanda_crop_type')\n",
    "\n",
    "# Print all collections associated with the dataset\n",
    "print(f'ID: {dataset.id}')\n",
    "print(f'Title: {dataset.title}')\n",
    "print('Collections:')\n",
    "for collection in dataset.collections:\n",
    "    print(f'* {collection.id}')"
   ]
  },
  {
   "cell_type": "markdown",
   "metadata": {},
   "source": [
    "The three collections associated with this dataset are:\n",
    "\n",
    "* rti_rwanda_crop_type_source: includes the image inputs\n",
    "* rti_rwanda_crop_type_labels: includes the labls for the images\n",
    "* rti_rwanda_crop_type_raw: raw data\n"
   ]
  },
  {
   "cell_type": "markdown",
   "metadata": {},
   "source": [
    "## Downloading Labels and Source Imagery"
   ]
  },
  {
   "cell_type": "code",
   "execution_count": 9,
   "metadata": {},
   "outputs": [],
   "source": [
    "# Define the path to which we will download everything\n",
    "output_path = Path(\"./data/\").resolve()"
   ]
  },
  {
   "cell_type": "code",
   "execution_count": 10,
   "metadata": {},
   "outputs": [
    {
     "data": {
      "text/plain": [
       "WindowsPath('C:/Users/kchan/Desktop/Spring2022/RemoteSensing/Final/FinalRepo/MUSA650_Final_ChangEpstein/data/rti_rwanda_crop_type_labels.tar.gz')"
      ]
     },
     "execution_count": 10,
     "metadata": {},
     "output_type": "execute_result"
    }
   ],
   "source": [
    "# Downloading labels\n",
    "collection = Collection.fetch('rti_rwanda_crop_type_labels')\n",
    "collection.download(f\"{output_path}\")  # Will raise exception if the file already exists"
   ]
  },
  {
   "cell_type": "code",
   "execution_count": 11,
   "metadata": {},
   "outputs": [
    {
     "data": {
      "text/plain": [
       "WindowsPath('C:/Users/kchan/Desktop/Spring2022/RemoteSensing/Final/FinalRepo/MUSA650_Final_ChangEpstein/data/Data/rti_rwanda_crop_type_source.tar.gz')"
      ]
     },
     "execution_count": 11,
     "metadata": {},
     "output_type": "execute_result"
    }
   ],
   "source": [
    "# Downloading source images\n",
    "collection = Collection.fetch('rti_rwanda_crop_type_source')\n",
    "collection.download(f\"{output_path}/Data\")   # Will raise exception if the file already exists"
   ]
  },
  {
   "cell_type": "code",
   "execution_count": 12,
   "metadata": {},
   "outputs": [
    {
     "ename": "FileNotFoundError",
     "evalue": "[Errno 2] No such file or directory: 'c:\\\\Users\\\\kchan\\\\Desktop\\\\Spring2022\\\\RemoteSensing\\\\Final\\\\FinalRepo\\\\MUSA650_Final_ChangEpstein\\\\data/rti_rwanda_crop_type_source.tar.gz'",
     "output_type": "error",
     "traceback": [
      "\u001b[1;31m---------------------------------------------------------------------------\u001b[0m",
      "\u001b[1;31mFileNotFoundError\u001b[0m                         Traceback (most recent call last)",
      "\u001b[1;32mc:\\Users\\kchan\\Desktop\\Spring2022\\RemoteSensing\\Final\\FinalRepo\\MUSA650_Final_ChangEpstein\\Accessing_MLHub_data.ipynb Cell 10'\u001b[0m in \u001b[0;36m<module>\u001b[1;34m\u001b[0m\n\u001b[0;32m      <a href='vscode-notebook-cell:/c%3A/Users/kchan/Desktop/Spring2022/RemoteSensing/Final/FinalRepo/MUSA650_Final_ChangEpstein/Accessing_MLHub_data.ipynb#ch0000009?line=0'>1</a>\u001b[0m \u001b[39m# Extract images and labels\u001b[39;00m\n\u001b[0;32m      <a href='vscode-notebook-cell:/c%3A/Users/kchan/Desktop/Spring2022/RemoteSensing/Final/FinalRepo/MUSA650_Final_ChangEpstein/Accessing_MLHub_data.ipynb#ch0000009?line=1'>2</a>\u001b[0m \u001b[39mimport\u001b[39;00m \u001b[39mshutil\u001b[39;00m\n\u001b[1;32m----> <a href='vscode-notebook-cell:/c%3A/Users/kchan/Desktop/Spring2022/RemoteSensing/Final/FinalRepo/MUSA650_Final_ChangEpstein/Accessing_MLHub_data.ipynb#ch0000009?line=2'>3</a>\u001b[0m shutil\u001b[39m.\u001b[39;49munpack_archive(\u001b[39mf\u001b[39;49m\u001b[39m\"\u001b[39;49m\u001b[39m{\u001b[39;49;00moutput_path\u001b[39m}\u001b[39;49;00m\u001b[39m/rti_rwanda_crop_type_source.tar.gz\u001b[39;49m\u001b[39m\"\u001b[39;49m, \u001b[39mf\u001b[39;49m\u001b[39m\"\u001b[39;49m\u001b[39m{\u001b[39;49;00moutput_path\u001b[39m}\u001b[39;49;00m\u001b[39m/Extracted\u001b[39;49m\u001b[39m\"\u001b[39;49m)\n\u001b[0;32m      <a href='vscode-notebook-cell:/c%3A/Users/kchan/Desktop/Spring2022/RemoteSensing/Final/FinalRepo/MUSA650_Final_ChangEpstein/Accessing_MLHub_data.ipynb#ch0000009?line=3'>4</a>\u001b[0m shutil\u001b[39m.\u001b[39munpack_archive(\u001b[39mf\u001b[39m\u001b[39m\"\u001b[39m\u001b[39m{\u001b[39;00moutput_path\u001b[39m}\u001b[39;00m\u001b[39m/rti_rwanda_crop_type_labels.tar.gz\u001b[39m\u001b[39m\"\u001b[39m, \u001b[39mf\u001b[39m\u001b[39m\"\u001b[39m\u001b[39m{\u001b[39;00moutput_path\u001b[39m}\u001b[39;00m\u001b[39m/Extracted\u001b[39m\u001b[39m\"\u001b[39m)\n",
      "File \u001b[1;32m~\\anaconda3\\envs\\musa-650\\lib\\shutil.py:1261\u001b[0m, in \u001b[0;36munpack_archive\u001b[1;34m(filename, extract_dir, format)\u001b[0m\n\u001b[0;32m   <a href='file:///c%3A/Users/kchan/anaconda3/envs/musa-650/lib/shutil.py?line=1258'>1259</a>\u001b[0m func \u001b[39m=\u001b[39m _UNPACK_FORMATS[\u001b[39mformat\u001b[39m][\u001b[39m1\u001b[39m]\n\u001b[0;32m   <a href='file:///c%3A/Users/kchan/anaconda3/envs/musa-650/lib/shutil.py?line=1259'>1260</a>\u001b[0m kwargs \u001b[39m=\u001b[39m \u001b[39mdict\u001b[39m(_UNPACK_FORMATS[\u001b[39mformat\u001b[39m][\u001b[39m2\u001b[39m])\n\u001b[1;32m-> <a href='file:///c%3A/Users/kchan/anaconda3/envs/musa-650/lib/shutil.py?line=1260'>1261</a>\u001b[0m func(filename, extract_dir, \u001b[39m*\u001b[39m\u001b[39m*\u001b[39mkwargs)\n",
      "File \u001b[1;32m~\\anaconda3\\envs\\musa-650\\lib\\shutil.py:1189\u001b[0m, in \u001b[0;36m_unpack_tarfile\u001b[1;34m(filename, extract_dir)\u001b[0m\n\u001b[0;32m   <a href='file:///c%3A/Users/kchan/anaconda3/envs/musa-650/lib/shutil.py?line=1186'>1187</a>\u001b[0m \u001b[39mimport\u001b[39;00m \u001b[39mtarfile\u001b[39;00m  \u001b[39m# late import for breaking circular dependency\u001b[39;00m\n\u001b[0;32m   <a href='file:///c%3A/Users/kchan/anaconda3/envs/musa-650/lib/shutil.py?line=1187'>1188</a>\u001b[0m \u001b[39mtry\u001b[39;00m:\n\u001b[1;32m-> <a href='file:///c%3A/Users/kchan/anaconda3/envs/musa-650/lib/shutil.py?line=1188'>1189</a>\u001b[0m     tarobj \u001b[39m=\u001b[39m tarfile\u001b[39m.\u001b[39;49mopen(filename)\n\u001b[0;32m   <a href='file:///c%3A/Users/kchan/anaconda3/envs/musa-650/lib/shutil.py?line=1189'>1190</a>\u001b[0m \u001b[39mexcept\u001b[39;00m tarfile\u001b[39m.\u001b[39mTarError:\n\u001b[0;32m   <a href='file:///c%3A/Users/kchan/anaconda3/envs/musa-650/lib/shutil.py?line=1190'>1191</a>\u001b[0m     \u001b[39mraise\u001b[39;00m ReadError(\n\u001b[0;32m   <a href='file:///c%3A/Users/kchan/anaconda3/envs/musa-650/lib/shutil.py?line=1191'>1192</a>\u001b[0m         \u001b[39m\"\u001b[39m\u001b[39m%s\u001b[39;00m\u001b[39m is not a compressed or uncompressed tar file\u001b[39m\u001b[39m\"\u001b[39m \u001b[39m%\u001b[39m filename)\n",
      "File \u001b[1;32m~\\anaconda3\\envs\\musa-650\\lib\\tarfile.py:1611\u001b[0m, in \u001b[0;36mTarFile.open\u001b[1;34m(cls, name, mode, fileobj, bufsize, **kwargs)\u001b[0m\n\u001b[0;32m   <a href='file:///c%3A/Users/kchan/anaconda3/envs/musa-650/lib/tarfile.py?line=1608'>1609</a>\u001b[0m     saved_pos \u001b[39m=\u001b[39m fileobj\u001b[39m.\u001b[39mtell()\n\u001b[0;32m   <a href='file:///c%3A/Users/kchan/anaconda3/envs/musa-650/lib/tarfile.py?line=1609'>1610</a>\u001b[0m \u001b[39mtry\u001b[39;00m:\n\u001b[1;32m-> <a href='file:///c%3A/Users/kchan/anaconda3/envs/musa-650/lib/tarfile.py?line=1610'>1611</a>\u001b[0m     \u001b[39mreturn\u001b[39;00m func(name, \u001b[39m\"\u001b[39m\u001b[39mr\u001b[39m\u001b[39m\"\u001b[39m, fileobj, \u001b[39m*\u001b[39m\u001b[39m*\u001b[39mkwargs)\n\u001b[0;32m   <a href='file:///c%3A/Users/kchan/anaconda3/envs/musa-650/lib/tarfile.py?line=1611'>1612</a>\u001b[0m \u001b[39mexcept\u001b[39;00m (ReadError, CompressionError):\n\u001b[0;32m   <a href='file:///c%3A/Users/kchan/anaconda3/envs/musa-650/lib/tarfile.py?line=1612'>1613</a>\u001b[0m     \u001b[39mif\u001b[39;00m fileobj \u001b[39mis\u001b[39;00m \u001b[39mnot\u001b[39;00m \u001b[39mNone\u001b[39;00m:\n",
      "File \u001b[1;32m~\\anaconda3\\envs\\musa-650\\lib\\tarfile.py:1675\u001b[0m, in \u001b[0;36mTarFile.gzopen\u001b[1;34m(cls, name, mode, fileobj, compresslevel, **kwargs)\u001b[0m\n\u001b[0;32m   <a href='file:///c%3A/Users/kchan/anaconda3/envs/musa-650/lib/tarfile.py?line=1671'>1672</a>\u001b[0m     \u001b[39mraise\u001b[39;00m CompressionError(\u001b[39m\"\u001b[39m\u001b[39mgzip module is not available\u001b[39m\u001b[39m\"\u001b[39m)\n\u001b[0;32m   <a href='file:///c%3A/Users/kchan/anaconda3/envs/musa-650/lib/tarfile.py?line=1673'>1674</a>\u001b[0m \u001b[39mtry\u001b[39;00m:\n\u001b[1;32m-> <a href='file:///c%3A/Users/kchan/anaconda3/envs/musa-650/lib/tarfile.py?line=1674'>1675</a>\u001b[0m     fileobj \u001b[39m=\u001b[39m GzipFile(name, mode \u001b[39m+\u001b[39;49m \u001b[39m\"\u001b[39;49m\u001b[39mb\u001b[39;49m\u001b[39m\"\u001b[39;49m, compresslevel, fileobj)\n\u001b[0;32m   <a href='file:///c%3A/Users/kchan/anaconda3/envs/musa-650/lib/tarfile.py?line=1675'>1676</a>\u001b[0m \u001b[39mexcept\u001b[39;00m \u001b[39mOSError\u001b[39;00m:\n\u001b[0;32m   <a href='file:///c%3A/Users/kchan/anaconda3/envs/musa-650/lib/tarfile.py?line=1676'>1677</a>\u001b[0m     \u001b[39mif\u001b[39;00m fileobj \u001b[39mis\u001b[39;00m \u001b[39mnot\u001b[39;00m \u001b[39mNone\u001b[39;00m \u001b[39mand\u001b[39;00m mode \u001b[39m==\u001b[39m \u001b[39m'\u001b[39m\u001b[39mr\u001b[39m\u001b[39m'\u001b[39m:\n",
      "File \u001b[1;32m~\\anaconda3\\envs\\musa-650\\lib\\gzip.py:173\u001b[0m, in \u001b[0;36mGzipFile.__init__\u001b[1;34m(self, filename, mode, compresslevel, fileobj, mtime)\u001b[0m\n\u001b[0;32m    <a href='file:///c%3A/Users/kchan/anaconda3/envs/musa-650/lib/gzip.py?line=170'>171</a>\u001b[0m     mode \u001b[39m+\u001b[39m\u001b[39m=\u001b[39m \u001b[39m'\u001b[39m\u001b[39mb\u001b[39m\u001b[39m'\u001b[39m\n\u001b[0;32m    <a href='file:///c%3A/Users/kchan/anaconda3/envs/musa-650/lib/gzip.py?line=171'>172</a>\u001b[0m \u001b[39mif\u001b[39;00m fileobj \u001b[39mis\u001b[39;00m \u001b[39mNone\u001b[39;00m:\n\u001b[1;32m--> <a href='file:///c%3A/Users/kchan/anaconda3/envs/musa-650/lib/gzip.py?line=172'>173</a>\u001b[0m     fileobj \u001b[39m=\u001b[39m \u001b[39mself\u001b[39m\u001b[39m.\u001b[39mmyfileobj \u001b[39m=\u001b[39m builtins\u001b[39m.\u001b[39;49mopen(filename, mode \u001b[39mor\u001b[39;49;00m \u001b[39m'\u001b[39;49m\u001b[39mrb\u001b[39;49m\u001b[39m'\u001b[39;49m)\n\u001b[0;32m    <a href='file:///c%3A/Users/kchan/anaconda3/envs/musa-650/lib/gzip.py?line=173'>174</a>\u001b[0m \u001b[39mif\u001b[39;00m filename \u001b[39mis\u001b[39;00m \u001b[39mNone\u001b[39;00m:\n\u001b[0;32m    <a href='file:///c%3A/Users/kchan/anaconda3/envs/musa-650/lib/gzip.py?line=174'>175</a>\u001b[0m     filename \u001b[39m=\u001b[39m \u001b[39mgetattr\u001b[39m(fileobj, \u001b[39m'\u001b[39m\u001b[39mname\u001b[39m\u001b[39m'\u001b[39m, \u001b[39m'\u001b[39m\u001b[39m'\u001b[39m)\n",
      "\u001b[1;31mFileNotFoundError\u001b[0m: [Errno 2] No such file or directory: 'c:\\\\Users\\\\kchan\\\\Desktop\\\\Spring2022\\\\RemoteSensing\\\\Final\\\\FinalRepo\\\\MUSA650_Final_ChangEpstein\\\\data/rti_rwanda_crop_type_source.tar.gz'"
     ]
    }
   ],
   "source": [
    "# Extract images and labels\n",
    "import shutil\n",
    "shutil.unpack_archive(f\"{output_path}/rti_rwanda_crop_type_source.tar.gz\", f\"{output_path}/Extracted\")\n",
    "shutil.unpack_archive(f\"{output_path}/rti_rwanda_crop_type_labels.tar.gz\", f\"{output_path}/Extracted\")"
   ]
  },
  {
   "cell_type": "code",
   "execution_count": 8,
   "metadata": {},
   "outputs": [],
   "source": [
    "import os # use os to access the files on the local system\n",
    "labels_path = f\"{output_path}/Extracted/rti_rwanda_crop_type_labels\" # label files\n",
    "sources_path = f\"{output_path}/Extracted/rti_rwanda_crop_type_source\" # source image files"
   ]
  },
  {
   "cell_type": "code",
   "execution_count": 9,
   "metadata": {},
   "outputs": [],
   "source": [
    "# Get the path to all image source files\n",
    "source_images = []\n",
    "for root, dirs, files in os.walk(sources_path):\n",
    "    for file in files:\n",
    "        if(file.endswith(\".png\")):\n",
    "            source_images.append(root)"
   ]
  },
  {
   "cell_type": "code",
   "execution_count": 10,
   "metadata": {},
   "outputs": [
    {
     "data": {
      "text/html": [
       "<div>\n",
       "<style scoped>\n",
       "    .dataframe tbody tr th:only-of-type {\n",
       "        vertical-align: middle;\n",
       "    }\n",
       "\n",
       "    .dataframe tbody tr th {\n",
       "        vertical-align: top;\n",
       "    }\n",
       "\n",
       "    .dataframe thead th {\n",
       "        text-align: right;\n",
       "    }\n",
       "</style>\n",
       "<table border=\"1\" class=\"dataframe\">\n",
       "  <thead>\n",
       "    <tr style=\"text-align: right;\">\n",
       "      <th></th>\n",
       "      <th>source_file</th>\n",
       "    </tr>\n",
       "  </thead>\n",
       "  <tbody>\n",
       "    <tr>\n",
       "      <th>0</th>\n",
       "      <td>C:\\Users\\jenna\\Documents\\MCP\\Spring_2022\\MUSA6...</td>\n",
       "    </tr>\n",
       "    <tr>\n",
       "      <th>1</th>\n",
       "      <td>C:\\Users\\jenna\\Documents\\MCP\\Spring_2022\\MUSA6...</td>\n",
       "    </tr>\n",
       "    <tr>\n",
       "      <th>2</th>\n",
       "      <td>C:\\Users\\jenna\\Documents\\MCP\\Spring_2022\\MUSA6...</td>\n",
       "    </tr>\n",
       "    <tr>\n",
       "      <th>3</th>\n",
       "      <td>C:\\Users\\jenna\\Documents\\MCP\\Spring_2022\\MUSA6...</td>\n",
       "    </tr>\n",
       "    <tr>\n",
       "      <th>4</th>\n",
       "      <td>C:\\Users\\jenna\\Documents\\MCP\\Spring_2022\\MUSA6...</td>\n",
       "    </tr>\n",
       "  </tbody>\n",
       "</table>\n",
       "</div>"
      ],
      "text/plain": [
       "                                         source_file\n",
       "0  C:\\Users\\jenna\\Documents\\MCP\\Spring_2022\\MUSA6...\n",
       "1  C:\\Users\\jenna\\Documents\\MCP\\Spring_2022\\MUSA6...\n",
       "2  C:\\Users\\jenna\\Documents\\MCP\\Spring_2022\\MUSA6...\n",
       "3  C:\\Users\\jenna\\Documents\\MCP\\Spring_2022\\MUSA6...\n",
       "4  C:\\Users\\jenna\\Documents\\MCP\\Spring_2022\\MUSA6..."
      ]
     },
     "execution_count": 10,
     "metadata": {},
     "output_type": "execute_result"
    }
   ],
   "source": [
    "import pandas as pd\n",
    "dataset_df = pd.DataFrame(data = source_images,columns=[\"source_file\"])\n",
    "dataset_df.head()"
   ]
  },
  {
   "cell_type": "code",
   "execution_count": 11,
   "metadata": {},
   "outputs": [
    {
     "data": {
      "text/plain": [
       "'C:\\\\Users\\\\jenna\\\\Documents\\\\MCP\\\\Spring_2022\\\\MUSA650_RemoteSensing\\\\Final\\\\MUSA650_Final_ChangEpstein\\\\data/Extracted/rti_rwanda_crop_type_source\\\\rti_rwanda_crop_type_source_0'"
      ]
     },
     "execution_count": 11,
     "metadata": {},
     "output_type": "execute_result"
    }
   ],
   "source": [
    "# A sample path to a source file\n",
    "dataset_df[\"source_file\"][0]"
   ]
  },
  {
   "cell_type": "code",
   "execution_count": 12,
   "metadata": {},
   "outputs": [],
   "source": [
    "import json \n",
    "def get_label(source_file, labels_path):\n",
    "    image_id = source_file.split('_')[-1]\n",
    "    label_file = f\"{labels_path}/rti_rwanda_crop_type_labels_{str(image_id)}/labels.json\"\n",
    "    #load label\n",
    "    with open(label_file) as file:\n",
    "        label = json.load(file)[\"label\"]\n",
    "\n",
    "    return label"
   ]
  },
  {
   "cell_type": "code",
   "execution_count": 13,
   "metadata": {},
   "outputs": [],
   "source": [
    "# Add label column to pandas and read the label for each source image\n",
    "dataset_df[\"label\"] = dataset_df[\"source_file\"].apply(get_label, args=(labels_path,))"
   ]
  },
  {
   "cell_type": "code",
   "execution_count": 14,
   "metadata": {},
   "outputs": [
    {
     "data": {
      "text/html": [
       "<div>\n",
       "<style scoped>\n",
       "    .dataframe tbody tr th:only-of-type {\n",
       "        vertical-align: middle;\n",
       "    }\n",
       "\n",
       "    .dataframe tbody tr th {\n",
       "        vertical-align: top;\n",
       "    }\n",
       "\n",
       "    .dataframe thead th {\n",
       "        text-align: right;\n",
       "    }\n",
       "</style>\n",
       "<table border=\"1\" class=\"dataframe\">\n",
       "  <thead>\n",
       "    <tr style=\"text-align: right;\">\n",
       "      <th></th>\n",
       "      <th>source_file</th>\n",
       "      <th>label</th>\n",
       "    </tr>\n",
       "  </thead>\n",
       "  <tbody>\n",
       "    <tr>\n",
       "      <th>0</th>\n",
       "      <td>C:\\Users\\jenna\\Documents\\MCP\\Spring_2022\\MUSA6...</td>\n",
       "      <td>banana</td>\n",
       "    </tr>\n",
       "    <tr>\n",
       "      <th>1</th>\n",
       "      <td>C:\\Users\\jenna\\Documents\\MCP\\Spring_2022\\MUSA6...</td>\n",
       "      <td>maize</td>\n",
       "    </tr>\n",
       "    <tr>\n",
       "      <th>2</th>\n",
       "      <td>C:\\Users\\jenna\\Documents\\MCP\\Spring_2022\\MUSA6...</td>\n",
       "      <td>legumes</td>\n",
       "    </tr>\n",
       "    <tr>\n",
       "      <th>3</th>\n",
       "      <td>C:\\Users\\jenna\\Documents\\MCP\\Spring_2022\\MUSA6...</td>\n",
       "      <td>legumes</td>\n",
       "    </tr>\n",
       "    <tr>\n",
       "      <th>4</th>\n",
       "      <td>C:\\Users\\jenna\\Documents\\MCP\\Spring_2022\\MUSA6...</td>\n",
       "      <td>structure</td>\n",
       "    </tr>\n",
       "  </tbody>\n",
       "</table>\n",
       "</div>"
      ],
      "text/plain": [
       "                                         source_file      label\n",
       "0  C:\\Users\\jenna\\Documents\\MCP\\Spring_2022\\MUSA6...     banana\n",
       "1  C:\\Users\\jenna\\Documents\\MCP\\Spring_2022\\MUSA6...      maize\n",
       "2  C:\\Users\\jenna\\Documents\\MCP\\Spring_2022\\MUSA6...    legumes\n",
       "3  C:\\Users\\jenna\\Documents\\MCP\\Spring_2022\\MUSA6...    legumes\n",
       "4  C:\\Users\\jenna\\Documents\\MCP\\Spring_2022\\MUSA6...  structure"
      ]
     },
     "execution_count": 14,
     "metadata": {},
     "output_type": "execute_result"
    }
   ],
   "source": [
    "# View five rows\n",
    "dataset_df.head()"
   ]
  },
  {
   "cell_type": "code",
   "execution_count": 16,
   "metadata": {},
   "outputs": [],
   "source": [
    "# Note that we need to transform to string (using a new name - output_path_full) or else cant use + to concatenate different data types \n",
    "output_path_full = str(Path(output_path))"
   ]
  },
  {
   "cell_type": "code",
   "execution_count": 17,
   "metadata": {},
   "outputs": [],
   "source": [
    "# Create target folder for each each label\n",
    "# Define a list of keywords based on the label classes ()\n",
    "keys = (\n",
    "    \"banana\",\n",
    "    \"maize\",\n",
    "    \"other\",\n",
    "    \"forest\",\n",
    "    \"legumes\",\n",
    "    \"structure\"\n",
    ")\n",
    "if not os.path.isdir(f\"{output_path_full}/Images/\"):\n",
    "    os.makedirs(f\"{output_path_full}/Images/\")\n",
    "for key in keys:\n",
    "    if not os.path.isdir(output_path_full + '/Images/' + key):\n",
    "        os.mkdir(output_path_full + '/Images/' + key)"
   ]
  },
  {
   "cell_type": "code",
   "execution_count": 18,
   "metadata": {},
   "outputs": [],
   "source": [
    "# Copying the source imagery to corresponding label folders\n",
    "\n",
    "for key in keys:\n",
    "    key_df = dataset_df[dataset_df[\"label\"]==key]\n",
    "    key_df = key_df.reset_index()\n",
    "    for row in key_df.iterrows():\n",
    "        shutil.copy(f\"{row[1]['source_file']}/Image.png\", f\"{output_path_full}/Images/{key}/{str(row[1]['index'])}.png\")\n",
    "        # The index of the image will be the name of the file"
   ]
  },
  {
   "cell_type": "code",
   "execution_count": 19,
   "metadata": {},
   "outputs": [
    {
     "data": {
      "text/html": [
       "<div>\n",
       "<style scoped>\n",
       "    .dataframe tbody tr th:only-of-type {\n",
       "        vertical-align: middle;\n",
       "    }\n",
       "\n",
       "    .dataframe tbody tr th {\n",
       "        vertical-align: top;\n",
       "    }\n",
       "\n",
       "    .dataframe thead th {\n",
       "        text-align: right;\n",
       "    }\n",
       "</style>\n",
       "<table border=\"1\" class=\"dataframe\">\n",
       "  <thead>\n",
       "    <tr style=\"text-align: right;\">\n",
       "      <th></th>\n",
       "      <th>index</th>\n",
       "      <th>source_file</th>\n",
       "      <th>label</th>\n",
       "    </tr>\n",
       "  </thead>\n",
       "  <tbody>\n",
       "    <tr>\n",
       "      <th>0</th>\n",
       "      <td>4</td>\n",
       "      <td>C:\\Users\\jenna\\Documents\\MCP\\Spring_2022\\MUSA6...</td>\n",
       "      <td>structure</td>\n",
       "    </tr>\n",
       "    <tr>\n",
       "      <th>1</th>\n",
       "      <td>5</td>\n",
       "      <td>C:\\Users\\jenna\\Documents\\MCP\\Spring_2022\\MUSA6...</td>\n",
       "      <td>structure</td>\n",
       "    </tr>\n",
       "    <tr>\n",
       "      <th>2</th>\n",
       "      <td>8</td>\n",
       "      <td>C:\\Users\\jenna\\Documents\\MCP\\Spring_2022\\MUSA6...</td>\n",
       "      <td>structure</td>\n",
       "    </tr>\n",
       "    <tr>\n",
       "      <th>3</th>\n",
       "      <td>9</td>\n",
       "      <td>C:\\Users\\jenna\\Documents\\MCP\\Spring_2022\\MUSA6...</td>\n",
       "      <td>structure</td>\n",
       "    </tr>\n",
       "    <tr>\n",
       "      <th>4</th>\n",
       "      <td>10</td>\n",
       "      <td>C:\\Users\\jenna\\Documents\\MCP\\Spring_2022\\MUSA6...</td>\n",
       "      <td>structure</td>\n",
       "    </tr>\n",
       "  </tbody>\n",
       "</table>\n",
       "</div>"
      ],
      "text/plain": [
       "   index                                        source_file      label\n",
       "0      4  C:\\Users\\jenna\\Documents\\MCP\\Spring_2022\\MUSA6...  structure\n",
       "1      5  C:\\Users\\jenna\\Documents\\MCP\\Spring_2022\\MUSA6...  structure\n",
       "2      8  C:\\Users\\jenna\\Documents\\MCP\\Spring_2022\\MUSA6...  structure\n",
       "3      9  C:\\Users\\jenna\\Documents\\MCP\\Spring_2022\\MUSA6...  structure\n",
       "4     10  C:\\Users\\jenna\\Documents\\MCP\\Spring_2022\\MUSA6...  structure"
      ]
     },
     "execution_count": 19,
     "metadata": {},
     "output_type": "execute_result"
    }
   ],
   "source": [
    "key_df.head() # illustrates how the copy works with respect to key_df"
   ]
  },
  {
   "cell_type": "code",
   "execution_count": 20,
   "metadata": {},
   "outputs": [
    {
     "data": {
      "text/plain": [
       "'C:\\\\Users\\\\jenna\\\\Documents\\\\MCP\\\\Spring_2022\\\\MUSA650_RemoteSensing\\\\Final\\\\MUSA650_Final_ChangEpstein\\\\data/Extracted/rti_rwanda_crop_type_source\\\\rti_rwanda_crop_type_source_1000'"
      ]
     },
     "execution_count": 20,
     "metadata": {},
     "output_type": "execute_result"
    }
   ],
   "source": [
    "# The source_file contains the file - we have to append the image location (Image.png)\n",
    "key_df.source_file[0]"
   ]
  },
  {
   "cell_type": "code",
   "execution_count": 22,
   "metadata": {},
   "outputs": [],
   "source": [
    "# Access to the data on local system\n",
    "data_root=f\"{output_path_full}/Images\" "
   ]
  },
  {
   "cell_type": "code",
   "execution_count": 24,
   "metadata": {},
   "outputs": [
    {
     "name": "stdout",
     "output_type": "stream",
     "text": [
      "['banana', 'forest', 'legumes', 'maize', 'other', 'structure']\n"
     ]
    }
   ],
   "source": [
    "# Displaying the path and folders available\n",
    "selectedClasses = (os.listdir(data_root))\n",
    "\n",
    "# Print the classes from the Images folder\n",
    "print (selectedClasses)"
   ]
  }
 ],
 "metadata": {
  "interpreter": {
   "hash": "b3b9be1a114b67ae580aea9be56f65615de6f40d02b8026cd32778f2c3fa3664"
  },
  "kernelspec": {
   "display_name": "Python 3.9.9 ('musa-650')",
   "language": "python",
   "name": "python3"
  },
  "language_info": {
   "codemirror_mode": {
    "name": "ipython",
    "version": 3
   },
   "file_extension": ".py",
   "mimetype": "text/x-python",
   "name": "python",
   "nbconvert_exporter": "python",
   "pygments_lexer": "ipython3",
   "version": "3.9.9"
  },
  "orig_nbformat": 4
 },
 "nbformat": 4,
 "nbformat_minor": 2
}
